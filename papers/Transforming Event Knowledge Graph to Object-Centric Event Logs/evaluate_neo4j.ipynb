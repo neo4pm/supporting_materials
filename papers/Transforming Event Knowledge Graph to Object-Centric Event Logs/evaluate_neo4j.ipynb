{
 "cells": [
  {
   "cell_type": "code",
   "execution_count": 1,
   "id": "07d98ffa-9051-40a3-9209-28f609099fc5",
   "metadata": {
    "tags": []
   },
   "outputs": [],
   "source": [
    "experiment_name = 'runningExample'"
   ]
  },
  {
   "cell_type": "code",
   "execution_count": 2,
   "id": "19baa4ad-1abd-43a3-a4a5-9b9b56f90d20",
   "metadata": {
    "tags": []
   },
   "outputs": [],
   "source": [
    "import pm4py\n",
    "import itertools\n",
    "import time\n",
    "from py2neo import Graph\n",
    "\n",
    "graph = Graph(\"bolt://localhost:7687\", auth=(\"neo4j\", \"1234\"))\n",
    "\n",
    "lbl_n_logs        = 'number of logs'\n",
    "lbl_n_events      = 'number of events'\n",
    "lbl_n_activities  = 'number of activities'\n",
    "lbl_n_observed    = 'number of observed'\n",
    "lbl_n_objects     = 'number of objects'\n",
    "lbl_n_df          = 'number of df'\n",
    "lbl_n_corr        = 'number of corr'\n",
    "\n",
    "lbl_filter_df_time = 'filter on event time'\n",
    "lbl_filter_df_object_type = 'filter on object types'\n",
    "lbl_filter_df_object_type_time = 'filter on object types and time'\n",
    "lbl_filter_df_objects = 'filter on objects'\n",
    "lbl_filter_df_objects_time = 'filter on objects and time'\n",
    "\n",
    "\n",
    "def get_from_neo4j(cmd):\n",
    "    res = graph.run(cmd).data()[0]\n",
    "    return res\n",
    "\n",
    "\n",
    "def get_neo4j_summary(res = {}):\n",
    "    start_time = time.time()\n",
    "    measure_name = lbl_n_logs\n",
    "    res[measure_name]     = get_from_neo4j('MATCH(n:Log) return count(n) as result')['result']\n",
    "    res[measure_name+ ' (Time)']     = time.time() - start_time\n",
    "    \n",
    "    \n",
    "    start_time = time.time()\n",
    "    measure_name = lbl_n_events\n",
    "    res[measure_name]     = get_from_neo4j('MATCH(n:Event) return count(n) as result')['result']\n",
    "    res[measure_name+ ' (Time)']     = time.time() - start_time\n",
    "    \n",
    "    start_time = time.time()\n",
    "    measure_name = lbl_n_df\n",
    "    res[measure_name]     = get_from_neo4j(\"match ()-[r:DF]->() return count(r) as result\")['result']\n",
    "    res[measure_name+ ' (Time)']     = time.time() - start_time\n",
    "    \n",
    "    \n",
    "    start_time = time.time()\n",
    "    measure_name = lbl_n_activities\n",
    "    res[measure_name]     = get_from_neo4j(\"MATCH(n:Class) return count(n) as result\")['result']\n",
    "    res[measure_name+ ' (Time)']     = time.time() - start_time\n",
    "    \n",
    "    \n",
    "    start_time = time.time()\n",
    "    measure_name = lbl_n_objects\n",
    "    res[measure_name]     = get_from_neo4j(\"MATCH(n:Entity) WHERE not (n)-[:REL {Type:'Reified'}]->() return count(n) as result\")['result']\n",
    "    res[measure_name+ ' (Time)']     = time.time() - start_time\n",
    "    \n",
    "    start_time = time.time()\n",
    "    measure_name = lbl_n_observed\n",
    "    res[measure_name]     = get_from_neo4j(\"MATCH ()-[n:OBSERVED]->() return count(n) as result\")['result']\n",
    "    res[measure_name+ ' (Time)']     = time.time() - start_time\n",
    "    \n",
    "    \n",
    "    start_time = time.time()\n",
    "    measure_name = lbl_n_corr\n",
    "    res[measure_name]    = get_from_neo4j(\"MATCH(n1:Event)-[r1:CORR]->(n2:Entity) WHERE not (n2)-[:REL {Type:'Reified'}]->()return count(r1) as result\")['result']\n",
    "    res[measure_name+ ' (Time)']     = time.time() - start_time\n",
    "    \n",
    "    return res\n",
    "\n",
    "\n",
    "\n",
    "def get_neo4j_filter(res = {}):\n",
    "    start_time = time.time()\n",
    "    measure_name = lbl_filter_df_time\n",
    "    res[measure_name]    = get_from_neo4j(\"MATCH (n1:Event)-[r:DF]->(n2:Event) where n1.timestamp>datetime('1981-01-01T00:00:00+01:00') and n1.timestamp<datetime('1982-01-01T00:00:00+01:00') and n2.timestamp>datetime('1981-01-01T00:00:00+01:00') and n2.timestamp<datetime('1982-01-01T00:00:00+01:00') return count(r) as result\")['result']\n",
    "    res[measure_name+ ' (Time)']     = time.time() - start_time\n",
    "    \n",
    "    \n",
    "    start_time = time.time()\n",
    "    measure_name = lbl_filter_df_object_type\n",
    "    res[measure_name]    = get_from_neo4j(\"MATCH (n1:Event)-[r1:DF]->(n2:Event)-[r2:CORR]->(:Entity {EntityType:'xxxxxxxxxxxxxxxxxx'}) return count(r1) as result\")['result']\n",
    "    res[measure_name+ ' (Time)']     = time.time() - start_time\n",
    "        \n",
    "    start_time = time.time()\n",
    "    measure_name = lbl_filter_df_object_type_time\n",
    "    res[measure_name]    = get_from_neo4j(\"MATCH (n1:Event)-[r1:DF]->(n2:Event)-[r2:CORR]->(:Entity {EntityType:'xxxxxxxxxxxxxxxxxx'}) where n1.timestamp>datetime('1981-01-01T00:00:00+01:00') and n1.timestamp<datetime('1982-01-01T00:00:00+01:00') and n2.timestamp>datetime('1981-01-01T00:00:00+01:00') and n2.timestamp<datetime('1982-01-01T00:00:00+01:00') return count(r1) as result\")['result'] \n",
    "    res[measure_name+ ' (Time)']     = time.time() - start_time\n",
    "        \n",
    "    start_time = time.time()\n",
    "    measure_name = lbl_filter_df_objects\n",
    "    res[measure_name]    = get_from_neo4j(\"MATCH (ent1:Entity)<-[r1:CORR]-(e1:Event)-[r2:DF]->(e2:Event)-[r3:CORR]->(ent2:Entity) where ent1.uID in ['xxxx', 'xxxxxxx'] and ent2.uID in ['xxxx', 'xxxxxxx'] return count(r2) as result\")['result'] \n",
    "    res[measure_name+ ' (Time)']     = time.time() - start_time\n",
    "    res[measure_name+ ' (Time)']     = time.time() - start_time\n",
    "        \n",
    "    start_time = time.time()\n",
    "    measure_name = lbl_filter_df_objects_time\n",
    "    res[measure_name]    = get_from_neo4j(\"MATCH (ent1:Entity)<-[r1:CORR]-(e1:Event)-[r2:DF]->(e2:Event)-[r3:CORR]->(ent2:Entity) where ent1.uID in ['xxxx', 'xxxxxxx'] and ent2.uID in ['xxxx', 'xxxxxxx'] and e1.timestamp>datetime('1981-01-01T00:00:00+01:00') and e1.timestamp<datetime('1982-01-01T00:00:00+01:00') and e2.timestamp>datetime('1981-01-01T00:00:00+01:00') and e2.timestamp<datetime('1982-01-01T00:00:00+01:00') return count(r2) as result\")['result'] \n",
    "    res[measure_name+ ' (Time)']     = time.time() - start_time\n",
    "\n",
    "    return res\n"
   ]
  },
  {
   "cell_type": "code",
   "execution_count": 3,
   "id": "a773852c-11f0-4dc8-88dc-9fd9ff6f1fa4",
   "metadata": {
    "tags": []
   },
   "outputs": [],
   "source": [
    "res = get_neo4j_summary()"
   ]
  },
  {
   "cell_type": "code",
   "execution_count": 4,
   "id": "c1e053aa-4000-46a5-aaf9-c58bb7dca68d",
   "metadata": {
    "tags": []
   },
   "outputs": [],
   "source": [
    "res = get_neo4j_filter(res)"
   ]
  },
  {
   "cell_type": "code",
   "execution_count": 5,
   "id": "eafb3e6b-8949-4fd3-978d-2d57b9ae3565",
   "metadata": {
    "tags": []
   },
   "outputs": [],
   "source": [
    "with open('./experimental_results/result.csv', 'a') as f_object:\n",
    " \n",
    "    for  i,v in res.items():\n",
    "        f_object.write('neo4j,{},{},{}\\n'.format(experiment_name,i,v))        \n",
    "        \n",
    "    f_object.close()"
   ]
  },
  {
   "cell_type": "code",
   "execution_count": null,
   "id": "5da54bec-55a5-4d7b-b737-8b0ecad4eaa0",
   "metadata": {},
   "outputs": [],
   "source": []
  },
  {
   "cell_type": "code",
   "execution_count": null,
   "id": "9a3b4dc7-0284-4021-9794-edf27219c0b7",
   "metadata": {},
   "outputs": [],
   "source": []
  },
  {
   "cell_type": "code",
   "execution_count": null,
   "id": "16340e0a-d7e2-4d53-a432-cf849bc14573",
   "metadata": {},
   "outputs": [],
   "source": []
  }
 ],
 "metadata": {
  "kernelspec": {
   "display_name": "Python 3 (ipykernel)",
   "language": "python",
   "name": "python3"
  },
  "language_info": {
   "codemirror_mode": {
    "name": "ipython",
    "version": 3
   },
   "file_extension": ".py",
   "mimetype": "text/x-python",
   "name": "python",
   "nbconvert_exporter": "python",
   "pygments_lexer": "ipython3",
   "version": "3.7.0"
  }
 },
 "nbformat": 4,
 "nbformat_minor": 5
}
