{
 "cells": [
  {
   "cell_type": "code",
   "execution_count": 1,
   "id": "42c06ec9-6ab7-49e5-bedf-044c4f27dfd2",
   "metadata": {
    "tags": []
   },
   "outputs": [],
   "source": [
    "experiment_name = 'runningExample'\n",
    "file_path = '../../sample_data/lpg2ocel2023/export/runningExample_runningExample.jsonocel'"
   ]
  },
  {
   "cell_type": "code",
   "execution_count": 2,
   "id": "3547b767-b226-4ae6-86dc-d2c1c4cc8fe6",
   "metadata": {
    "tags": []
   },
   "outputs": [],
   "source": [
    "from csv import writer\n",
    "import pm4py\n",
    "import itertools\n",
    "import time\n",
    "\n",
    "lbl_n_logs        = 'number of logs'\n",
    "lbl_n_events      = 'number of events'\n",
    "lbl_n_activities  = 'number of activities'\n",
    "lbl_n_observed    = 'number of observed'\n",
    "lbl_n_objects     = 'number of objects'\n",
    "lbl_n_df          = 'number of df'\n",
    "lbl_n_corr        = 'number of corr'\n",
    "\n",
    "lbl_filter_df_time = 'filter on event time'\n",
    "lbl_filter_df_object_type = 'filter on object types'\n",
    "lbl_filter_df_object_type_time = 'filter on object types and time'\n",
    "lbl_filter_df_objects = 'filter on objects'\n",
    "lbl_filter_df_objects_time = 'filter on objects and time'\n",
    "\n",
    "def get_ocel_summary(ocel, res={}):\n",
    "    \n",
    "    \n",
    "    start_time = time.time()\n",
    "    measure_name = lbl_n_logs\n",
    "    res[measure_name]     = 1\n",
    "    res[measure_name+ ' (Time)']     = time.time() - start_time\n",
    "    \n",
    "    start_time = time.time()\n",
    "    measure_name = lbl_n_events\n",
    "    res[measure_name]     = len(ocel.events)\n",
    "    res[measure_name+ ' (Time)']     = time.time() - start_time\n",
    "    \n",
    "    start_time = time.time()\n",
    "    measure_name = lbl_n_activities\n",
    "    res[measure_name] = ocel.events[ocel.event_activity].nunique()\n",
    "    res[measure_name+ ' (Time)']     = time.time() - start_time\n",
    "    \n",
    "    start_time = time.time()\n",
    "    measure_name = lbl_n_observed\n",
    "    res[measure_name]   = ocel.events[ocel.event_activity].value_counts().sum()\n",
    "    res[measure_name+ ' (Time)']     = time.time() - start_time\n",
    "    \n",
    "    start_time = time.time()\n",
    "    measure_name = lbl_n_objects\n",
    "    res[measure_name]    = len(ocel.objects)\n",
    "    res[measure_name+ ' (Time)']     = time.time() - start_time\n",
    "    \n",
    "    start_time = time.time()\n",
    "    measure_name = lbl_n_df\n",
    "    ocdfg = pm4py.discover_ocdfg(ocel)\n",
    "    res[measure_name]    = len(list(itertools.chain(*itertools.chain(*[i.values() for i in ocdfg[\"edges\"]['event_couples'].values()]))))\n",
    "    res[measure_name+ ' (Time)']     = time.time() - start_time\n",
    "    \n",
    "    \n",
    "    start_time = time.time()\n",
    "    measure_name = lbl_n_corr\n",
    "    res[measure_name]    = len(ocel.relations)\n",
    "    res[measure_name+ ' (Time)']     = time.time() - start_time\n",
    "    \n",
    "    \n",
    "    return res\n",
    "\n",
    "def get_ocel_filter(ocel, res={}):\n",
    "    start_time = time.time()\n",
    "    measure_name = lbl_filter_df_time\n",
    "    filtered_ocel = pm4py.filter_ocel_events_timestamp(ocel, \"1981-01-01 00:00:00\", \"1982-01-01 00:00:00\", timestamp_key=\"ocel:timestamp\")\n",
    "    ocdfg = pm4py.discover_ocdfg(filtered_ocel)\n",
    "    x    = len(list(itertools.chain(*itertools.chain(*[i.values() for i in ocdfg[\"edges\"]['event_couples'].values()]))))\n",
    "    res[measure_name+ ' (Time)']     = time.time() - start_time\n",
    "   \n",
    "    start_time = time.time()\n",
    "    measure_name = lbl_filter_df_object_type\n",
    "    filtered_ocel = pm4py.filter_ocel_object_types(ocel, ['xxxxxxxxxxxxxxxxxx'])\n",
    "    ocdfg = pm4py.discover_ocdfg(filtered_ocel)\n",
    "    x    = len(list(itertools.chain(*itertools.chain(*[i.values() for i in ocdfg[\"edges\"]['event_couples'].values()]))))\n",
    "    res[measure_name+ ' (Time)']     = time.time() - start_time\n",
    "   \n",
    "    start_time = time.time()\n",
    "    measure_name = lbl_filter_df_object_type_time\n",
    "    filtered_ocel = pm4py.filter_ocel_object_types(ocel, ['xxxxxxxxxxxxxxxxxx'])\n",
    "    filtered_ocel = pm4py.filter_ocel_events_timestamp(filtered_ocel, \"1981-01-01 00:00:00\", \"1982-01-01 00:00:00\", timestamp_key=\"ocel:timestamp\")\n",
    "    ocdfg = pm4py.discover_ocdfg(filtered_ocel)\n",
    "    x    = len(list(itertools.chain(*itertools.chain(*[i.values() for i in ocdfg[\"edges\"]['event_couples'].values()]))))\n",
    "    res[measure_name+ ' (Time)']     = time.time() - start_time\n",
    "   \n",
    "    start_time = time.time()\n",
    "    measure_name = lbl_filter_df_objects\n",
    "    filtered_ocel = pm4py.filter_ocel_objects(ocel, ['xxxx', 'xxxxxxx'])\n",
    "    ocdfg = pm4py.discover_ocdfg(filtered_ocel)\n",
    "    x    = len(list(itertools.chain(*itertools.chain(*[i.values() for i in ocdfg[\"edges\"]['event_couples'].values()]))))\n",
    "    res[measure_name+ ' (Time)']     = time.time() - start_time\n",
    "   \n",
    "    start_time = time.time()\n",
    "    measure_name = lbl_filter_df_objects_time\n",
    "    filtered_ocel = pm4py.filter_ocel_objects(ocel, ['xxxx', 'xxxxxxx'])\n",
    "    filtered_ocel = pm4py.filter_ocel_events_timestamp(filtered_ocel, \"1981-01-01 00:00:00\", \"1982-01-01 00:00:00\", timestamp_key=\"ocel:timestamp\")\n",
    "    ocdfg = pm4py.discover_ocdfg(filtered_ocel)\n",
    "    x    = len(list(itertools.chain(*itertools.chain(*[i.values() for i in ocdfg[\"edges\"]['event_couples'].values()]))))\n",
    "    res[measure_name+ ' (Time)']     = time.time() - start_time\n",
    "   \n",
    "    return res\n",
    "\n"
   ]
  },
  {
   "cell_type": "code",
   "execution_count": 3,
   "id": "43188bd7-aae8-4d93-96de-ea3d06e88487",
   "metadata": {
    "tags": []
   },
   "outputs": [
    {
     "name": "stderr",
     "output_type": "stream",
     "text": [
      "d:\\workspace\\venv\\.lpg2ocel\\lib\\site-packages\\pm4py\\util\\dt_parsing\\parser.py:77: UserWarning: ISO8601 strings are not fully supported with strpfromiso for Python versions below 3.11\n",
      "  \"ISO8601 strings are not fully supported with strpfromiso for Python versions below 3.11\")\n"
     ]
    }
   ],
   "source": [
    "res = {}\n",
    "\n",
    "start_time = time.time()\n",
    "measure_name = 'load'\n",
    "ocel = pm4py.read_ocel(file_path)\n",
    "res[measure_name+ ' (Time)']     = time.time() - start_time"
   ]
  },
  {
   "cell_type": "code",
   "execution_count": 4,
   "id": "fdf72576-d71d-4f5e-bac1-51985d842fc6",
   "metadata": {
    "tags": []
   },
   "outputs": [],
   "source": [
    "res = get_ocel_summary(ocel, res)"
   ]
  },
  {
   "cell_type": "code",
   "execution_count": 5,
   "id": "0dbcb756-5a69-4e3f-9169-7b6f52db0736",
   "metadata": {
    "tags": []
   },
   "outputs": [],
   "source": [
    "res = get_ocel_filter(ocel, res)"
   ]
  },
  {
   "cell_type": "code",
   "execution_count": 6,
   "id": "eafb3e6b-8949-4fd3-978d-2d57b9ae3565",
   "metadata": {
    "tags": []
   },
   "outputs": [],
   "source": [
    "with open('./experimental_results/result.csv', 'a') as f_object:\n",
    " \n",
    "    for  i,v in res.items():\n",
    "        f_object.write('ocel,{},{},{}\\n'.format(experiment_name,i,v))        \n",
    "        \n",
    "    f_object.close()"
   ]
  },
  {
   "cell_type": "code",
   "execution_count": 7,
   "id": "5da54bec-55a5-4d7b-b737-8b0ecad4eaa0",
   "metadata": {
    "tags": []
   },
   "outputs": [
    {
     "name": "stdout",
     "output_type": "stream",
     "text": [
      "done\n"
     ]
    }
   ],
   "source": [
    "print('done')"
   ]
  },
  {
   "cell_type": "code",
   "execution_count": null,
   "id": "34840c01-33a0-4132-a81e-513b8bd5b424",
   "metadata": {},
   "outputs": [],
   "source": []
  }
 ],
 "metadata": {
  "kernelspec": {
   "display_name": "Python 3 (ipykernel)",
   "language": "python",
   "name": "python3"
  },
  "language_info": {
   "codemirror_mode": {
    "name": "ipython",
    "version": 3
   },
   "file_extension": ".py",
   "mimetype": "text/x-python",
   "name": "python",
   "nbconvert_exporter": "python",
   "pygments_lexer": "ipython3",
   "version": "3.7.0"
  }
 },
 "nbformat": 4,
 "nbformat_minor": 5
}
